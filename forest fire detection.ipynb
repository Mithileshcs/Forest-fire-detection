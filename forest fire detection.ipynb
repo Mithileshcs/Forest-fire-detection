{
 "cells": [
  {
   "cell_type": "code",
   "execution_count": 63,
   "id": "be52d96f",
   "metadata": {},
   "outputs": [],
   "source": [
    "import tensorflow as tf\n",
    "from tensorflow.keras.preprocessing.image import ImageDataGenerator\n",
    "from tensorflow.keras.models import Sequential, load_model\n",
    "from tensorflow.keras.layers import Conv2D, MaxPooling2D, Flatten, Dense, Dropout\n",
    "from tensorflow.keras.optimizers import Adam\n",
    "from sklearn.metrics import classification_report, confusion_matrix\n",
    "import numpy as np\n",
    "import gradio as gr"
   ]
  },
  {
   "cell_type": "code",
   "execution_count": 64,
   "id": "73ae7f1a",
   "metadata": {},
   "outputs": [],
   "source": [
    "# Define image dimensions and batch size\n",
    "img_width, img_height = 128, 128\n",
    "batch_size = 32"
   ]
  },
  {
   "cell_type": "code",
   "execution_count": 65,
   "id": "a94e0aa6",
   "metadata": {},
   "outputs": [],
   "source": [
    "train_datagen = ImageDataGenerator(\n",
    "    rescale=1.0/255.0,   # Normalize pixel values to the range [0, 1]\n",
    "    shear_range=0.2,     # Shear transformations\n",
    "    zoom_range=0.2,      # Random zoom\n",
    "    horizontal_flip=True ,# Horizontal flipping\n",
    "    validation_split=0.2 \n",
    ")"
   ]
  },
  {
   "cell_type": "code",
   "execution_count": 66,
   "id": "a7df5682",
   "metadata": {},
   "outputs": [
    {
     "name": "stdout",
     "output_type": "stream",
     "text": [
      "Found 1216 images belonging to 2 classes.\n"
     ]
    }
   ],
   "source": [
    "# Load and augment training data\n",
    "train_data_generator = train_datagen.flow_from_directory(\n",
    "    'path to dataset',\n",
    "    target_size=(img_width, img_height),\n",
    "    batch_size=batch_size,\n",
    "    class_mode='binary' ,# For binary classification\n",
    "    subset='training'\n",
    ")"
   ]
  },
  {
   "cell_type": "code",
   "execution_count": 67,
   "id": "a7ee9e24",
   "metadata": {},
   "outputs": [
    {
     "name": "stdout",
     "output_type": "stream",
     "text": [
      "Found 304 images belonging to 2 classes.\n"
     ]
    }
   ],
   "source": [
    "# Load validation data with the same generator\n",
    "test_data_generator = train_datagen.flow_from_directory(\n",
    "    'path to dataset',\n",
    "    target_size=(img_width, img_height),\n",
    "    batch_size=batch_size,\n",
    "    class_mode='binary',  # For binary classification\n",
    "    subset='validation'  # Specify the validation split\n",
    ")"
   ]
  },
  {
   "cell_type": "code",
   "execution_count": 68,
   "id": "a789a11f",
   "metadata": {},
   "outputs": [],
   "source": [
    "# Create the CNN model\n",
    "model = Sequential()\n",
    "\n",
    "model.add(Conv2D(32, (3, 3), activation='relu', input_shape=(img_width, img_height, 3)))\n",
    "model.add(MaxPooling2D(pool_size=(2, 2)))\n",
    "\n",
    "model.add(Conv2D(64, (3, 3), activation='relu'))\n",
    "model.add(MaxPooling2D(pool_size=(2, 2)))\n",
    "\n",
    "model.add(Conv2D(128, (3, 3), activation='relu'))\n",
    "model.add(MaxPooling2D(pool_size=(2, 2)))\n",
    "\n",
    "model.add(Flatten())\n",
    "model.add(Dense(128, activation='relu'))\n",
    "model.add(Dropout(0.5))\n",
    "model.add(Dense(1, activation='sigmoid'))  # Output layer for binary classification\n"
   ]
  },
  {
   "cell_type": "code",
   "execution_count": 69,
   "id": "5eb40d0e",
   "metadata": {},
   "outputs": [],
   "source": [
    "# Compile the model\n",
    "model.compile(optimizer=Adam(learning_rate=0.0001), loss='binary_crossentropy', metrics=['accuracy'])\n"
   ]
  },
  {
   "cell_type": "code",
   "execution_count": 70,
   "id": "0e4f4ea3",
   "metadata": {},
   "outputs": [
    {
     "name": "stdout",
     "output_type": "stream",
     "text": [
      "Epoch 1/20\n",
      "38/38 [==============================] - 76s 2s/step - loss: 0.4340 - accuracy: 0.8388 - val_loss: 0.2140 - val_accuracy: 0.9236\n",
      "Epoch 2/20\n",
      "38/38 [==============================] - 72s 2s/step - loss: 0.2427 - accuracy: 0.8972 - val_loss: 0.1853 - val_accuracy: 0.9340\n",
      "Epoch 3/20\n",
      "38/38 [==============================] - 78s 2s/step - loss: 0.1785 - accuracy: 0.9334 - val_loss: 0.1292 - val_accuracy: 0.9722\n",
      "Epoch 4/20\n",
      "38/38 [==============================] - 74s 2s/step - loss: 0.1600 - accuracy: 0.9334 - val_loss: 0.1009 - val_accuracy: 0.9722\n",
      "Epoch 5/20\n",
      "38/38 [==============================] - 75s 2s/step - loss: 0.1525 - accuracy: 0.9457 - val_loss: 0.1385 - val_accuracy: 0.9722\n",
      "Epoch 6/20\n",
      "38/38 [==============================] - 88s 2s/step - loss: 0.1379 - accuracy: 0.9490 - val_loss: 0.1068 - val_accuracy: 0.9757\n",
      "Epoch 7/20\n",
      "38/38 [==============================] - 70s 2s/step - loss: 0.1250 - accuracy: 0.9613 - val_loss: 0.1020 - val_accuracy: 0.9792\n",
      "Epoch 8/20\n",
      "38/38 [==============================] - 80s 2s/step - loss: 0.1282 - accuracy: 0.9589 - val_loss: 0.1251 - val_accuracy: 0.9792\n",
      "Epoch 9/20\n",
      "38/38 [==============================] - 70s 2s/step - loss: 0.1161 - accuracy: 0.9630 - val_loss: 0.1034 - val_accuracy: 0.9792\n",
      "Epoch 10/20\n",
      "38/38 [==============================] - 66s 2s/step - loss: 0.1184 - accuracy: 0.9613 - val_loss: 0.1164 - val_accuracy: 0.9861\n",
      "Epoch 11/20\n",
      "38/38 [==============================] - 65s 2s/step - loss: 0.1182 - accuracy: 0.9581 - val_loss: 0.1048 - val_accuracy: 0.9722\n",
      "Epoch 12/20\n",
      "38/38 [==============================] - 64s 2s/step - loss: 0.1158 - accuracy: 0.9581 - val_loss: 0.1262 - val_accuracy: 0.9618\n",
      "Epoch 13/20\n",
      "38/38 [==============================] - 69s 2s/step - loss: 0.1044 - accuracy: 0.9638 - val_loss: 0.1014 - val_accuracy: 0.9757\n",
      "Epoch 14/20\n",
      "38/38 [==============================] - 68s 2s/step - loss: 0.1027 - accuracy: 0.9663 - val_loss: 0.0936 - val_accuracy: 0.9861\n",
      "Epoch 15/20\n",
      "38/38 [==============================] - 63s 2s/step - loss: 0.0953 - accuracy: 0.9663 - val_loss: 0.1096 - val_accuracy: 0.9861\n",
      "Epoch 16/20\n",
      "38/38 [==============================] - 62s 2s/step - loss: 0.1269 - accuracy: 0.9572 - val_loss: 0.0998 - val_accuracy: 0.9861\n",
      "Epoch 17/20\n",
      "38/38 [==============================] - 63s 2s/step - loss: 0.0836 - accuracy: 0.9720 - val_loss: 0.0464 - val_accuracy: 0.9931\n",
      "Epoch 18/20\n",
      "38/38 [==============================] - 63s 2s/step - loss: 0.1011 - accuracy: 0.9671 - val_loss: 0.0998 - val_accuracy: 0.9792\n",
      "Epoch 19/20\n",
      "38/38 [==============================] - 62s 2s/step - loss: 0.0877 - accuracy: 0.9720 - val_loss: 0.1100 - val_accuracy: 0.9653\n",
      "Epoch 20/20\n",
      "38/38 [==============================] - 62s 2s/step - loss: 0.0737 - accuracy: 0.9762 - val_loss: 0.0967 - val_accuracy: 0.9792\n"
     ]
    }
   ],
   "source": [
    "# Train the model with validation data\n",
    "epochs = 20\n",
    "history = model.fit(\n",
    "    train_data_generator,\n",
    "    epochs=epochs,\n",
    "    steps_per_epoch=train_data_generator.samples // batch_size,\n",
    "    validation_data=test_data_generator,\n",
    "    validation_steps=test_data_generator.samples // batch_size,\n",
    "    verbose=1\n",
    ")"
   ]
  },
  {
   "cell_type": "code",
   "execution_count": 71,
   "id": "e5a20587",
   "metadata": {},
   "outputs": [],
   "source": [
    "import matplotlib.pyplot as plt\n",
    "plt.switch_backend('tkagg')  "
   ]
  },
  {
   "cell_type": "code",
   "execution_count": 72,
   "id": "fba28847",
   "metadata": {},
   "outputs": [],
   "source": [
    "plt.figure(figsize=(12, 4))\n",
    "plt.subplot(1, 2, 1)\n",
    "plt.plot(history.history['accuracy'], label='Train Accuracy')\n",
    "plt.plot(history.history['val_accuracy'], label='Validation Accuracy')\n",
    "plt.title('Training and Validation Accuracy')\n",
    "plt.xlabel('Epoch')\n",
    "plt.ylabel('Accuracy')\n",
    "plt.legend()\n",
    "plt.savefig('accuracy_plot.png')  # Save accuracy plot as an image file\n",
    "\n",
    "plt.subplot(1, 2, 2)\n",
    "plt.plot(history.history['loss'], label='Train Loss')\n",
    "plt.plot(history.history['val_loss'], label='Validation Loss')\n",
    "plt.title('Training and Validation Loss')\n",
    "plt.xlabel('Epoch')\n",
    "plt.ylabel('Loss')\n",
    "plt.legend()\n",
    "plt.savefig('/loss_plot.png')  # Save loss plot as an image file\n",
    "\n",
    "plt.tight_layout()\n",
    "\n",
    "plt.show()  # Display the plots using the default image viewer"
   ]
  },
  {
   "cell_type": "code",
   "execution_count": 89,
   "id": "7355cb1a",
   "metadata": {},
   "outputs": [],
   "source": [
    "from PIL import Image\n",
    "import warnings\n",
    "\n",
    "# Suppress all warnings (not recommended unless you're sure)\n",
    "warnings.filterwarnings(\"ignore\")\n"
   ]
  },
  {
   "cell_type": "code",
   "execution_count": 90,
   "id": "9dfc00ab",
   "metadata": {},
   "outputs": [],
   "source": [
    "# Define a function to make predictions on an input image\n",
    "def predict_image(input_image):\n",
    "    # Preprocess the image\n",
    "    img = tf.image.resize(input_image, (img_width, img_height))\n",
    "    img = tf.expand_dims(img, axis=0)\n",
    "    img = img / 255.0  # Normalize pixel values to [0, 1]\n",
    "\n",
    "    # Make the prediction\n",
    "    prediction = model.predict(img)\n",
    "    class_names = [\"Fire\", \"No Fire\"]\n",
    "    return class_names[int(round(prediction[0][0]))]\n"
   ]
  },
  {
   "cell_type": "code",
   "execution_count": null,
   "id": "14f0c67f",
   "metadata": {},
   "outputs": [],
   "source": [
    "# Create a Gradio interface\n",
    "iface = gr.Interface(\n",
    "    fn=predict_image,\n",
    "    inputs=\"image\",\n",
    "    outputs=\"text\",\n",
    "    live=True,\n",
    "    interpretation=\"default\",\n",
    "      theme=\"huggingface\",  # Set the theme to \"huggingface\"\n",
    "    layout=\"vertical\",  # Set the layout to \"vertical\"\n",
    "    capture_session=True,  # Enable screenshot capture\n",
    "    allow_flagging=False,  # Disable flagging option\n",
    "    title=\"Forest Fire Predictor\",\n",
    "    description=\"Upload an image to predict forest fire presence or absence.\",\n",
    "    server_name=\"Custom Gradio Server\",\n",
    "    server_port=5000,\n",
    "    server_host=\"0.0.0.0\"\n",
    "    \n",
    ")\n",
    "\n",
    "# Launch the interface\n",
    "iface.launch(debug=True,share=True)"
   ]
  },
  {
   "cell_type": "code",
   "execution_count": null,
   "id": "93eef493",
   "metadata": {},
   "outputs": [],
   "source": []
  }
 ],
 "metadata": {
  "kernelspec": {
   "display_name": "Python 3 (ipykernel)",
   "language": "python",
   "name": "python3"
  },
  "language_info": {
   "codemirror_mode": {
    "name": "ipython",
    "version": 3
   },
   "file_extension": ".py",
   "mimetype": "text/x-python",
   "name": "python",
   "nbconvert_exporter": "python",
   "pygments_lexer": "ipython3",
   "version": "3.10.9"
  }
 },
 "nbformat": 4,
 "nbformat_minor": 5
}
